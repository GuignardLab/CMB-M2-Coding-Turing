{
 "cells": [
  {
   "cell_type": "markdown",
   "metadata": {},
   "source": [
    "# A bit more about classes\n",
    "---"
   ]
  },
  {
   "cell_type": "markdown",
   "metadata": {},
   "source": [
    "## Initialising a class"
   ]
  },
  {
   "cell_type": "markdown",
   "metadata": {},
   "source": [
    "Classes can be initialised with the function `__init__` the following way"
   ]
  },
  {
   "cell_type": "code",
   "execution_count": 3,
   "metadata": {},
   "outputs": [],
   "source": [
    "class Cell:\n",
    "    def concentration_difference(self):\n",
    "        return self.A_concentration - self.I_concentration\n",
    "    \n",
    "    def __init__(self, A_concentration, I_concentration, position=[None, None]):\n",
    "        print(\"__init__ called\")\n",
    "        self.A_concentration = A_concentration\n",
    "        self.I_concentration = I_concentration\n",
    "        self.position = position"
   ]
  },
  {
   "cell_type": "markdown",
   "metadata": {},
   "source": [
    "The function `__init__` (in other languages called the constructor) is called when an instance is created:"
   ]
  },
  {
   "cell_type": "code",
   "execution_count": 4,
   "metadata": {},
   "outputs": [
    {
     "name": "stdout",
     "output_type": "stream",
     "text": [
      "__init__ called\n"
     ]
    }
   ],
   "source": [
    "c = Cell(1, 2)"
   ]
  },
  {
   "cell_type": "code",
   "execution_count": 5,
   "metadata": {},
   "outputs": [
    {
     "data": {
      "text/plain": [
       "-1"
      ]
     },
     "execution_count": 5,
     "metadata": {},
     "output_type": "execute_result"
    }
   ],
   "source": [
    "c.A_concentration\n",
    "c.I_concentration\n",
    "c.position\n",
    "c.concentration_difference()"
   ]
  },
  {
   "cell_type": "markdown",
   "metadata": {},
   "source": [
    "## Rewritting the \"basic\" functions"
   ]
  },
  {
   "cell_type": "markdown",
   "metadata": {},
   "source": [
    "It is possible to rewrite the basic functions such as the `__str__` function that is called by the `print` function:"
   ]
  },
  {
   "cell_type": "code",
   "execution_count": 8,
   "metadata": {},
   "outputs": [],
   "source": [
    "class Cell:\n",
    "    def __str__(self):\n",
    "        out = ('I am a cell with:\\n'\n",
    "               f'\\ta concentration of A: {self.A_concentration}\\n'\n",
    "               f'\\ta concentration of I: {self.I_concentration}\\n'\n",
    "               f'\\tPosition            : {self.position}\\n')\n",
    "        return out\n",
    "    \n",
    "    def concentration_difference(self):\n",
    "        return self.A_concentration - self.I_concentration\n",
    "    \n",
    "    def __init__(self, A_concentration, I_concentration, position=[None, None]):\n",
    "        self.A_concentration = A_concentration\n",
    "        self.I_concentration = I_concentration\n",
    "        self.position = position"
   ]
  },
  {
   "cell_type": "code",
   "execution_count": 9,
   "metadata": {},
   "outputs": [
    {
     "name": "stdout",
     "output_type": "stream",
     "text": [
      "I am a cell with:\n",
      "\ta concentration of A: 6\n",
      "\ta concentration of I: 1\n",
      "\tPosition            : [0, 0]\n",
      "\n"
     ]
    }
   ],
   "source": [
    "c = Cell(6, 1, [0, 0])\n",
    "print(c)"
   ]
  },
  {
   "cell_type": "markdown",
   "metadata": {},
   "source": [
    "[To the next notebook](3.GameOfLife.ipynb)"
   ]
  }
 ],
 "metadata": {
  "kernelspec": {
   "display_name": "sandbox",
   "language": "python",
   "name": "python3"
  },
  "language_info": {
   "codemirror_mode": {
    "name": "ipython",
    "version": 3
   },
   "file_extension": ".py",
   "mimetype": "text/x-python",
   "name": "python",
   "nbconvert_exporter": "python",
   "pygments_lexer": "ipython3",
   "version": "3.9.12"
  },
  "orig_nbformat": 4
 },
 "nbformat": 4,
 "nbformat_minor": 2
}
