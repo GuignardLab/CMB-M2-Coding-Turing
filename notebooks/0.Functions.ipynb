{
 "cells": [
  {
   "cell_type": "markdown",
   "metadata": {},
   "source": [
    "## Introduction to functions\n",
    "---\n",
    "You have seen some functions previously, for example the functions `print` or `range` for example which are `builtin` functions, functions that are \"in\" Python. You've also seen the functions `np.zeros`, `np.arange` which are function from a library (here it is the `numpy` library).\n",
    "\n",
    "A function is a piece of code that can be called at any time once defined. Functions are especially useful, as you may have noticed, when you know that you will want to reuse a piece of code multiple times, maybe with different inputs. For example, you called the function `print` with many different inputs.\n",
    "\n",
    "Functions are extremely powerful and can be manipulated in an extremely precise way. You can find all about that [there](https://docs.python.org/3/tutorial/controlflow.html#defining-functions).\n",
    "\n",
    "That being said, the main idea is that a function can be defined the following way:\n"
   ]
  },
  {
   "cell_type": "code",
   "execution_count": null,
   "metadata": {},
   "outputs": [],
   "source": [
    "def fib(n):\n",
    "    \"\"\"\n",
    "    This function returns the n-th Fibonnaci number.\n",
    "\n",
    "    Args:\n",
    "        n (int): rank of the desired Fibonnaci number in the series\n",
    "\n",
    "    Returns:\n",
    "        (int): n-th Fibonnaci number\n",
    "    \"\"\"\n",
    "    a, b = 1, 1\n",
    "    for _ in range(2, n):\n",
    "        a, b = b, a + b\n",
    "    return b"
   ]
  },
  {
   "cell_type": "markdown",
   "metadata": {},
   "source": [
    "As explained in the function, it has to do with Fibonacci numbers (they are pretty nice, you can find out more [here](https://en.wikipedia.org/wiki/Fibonacci_number)).\n",
    "\n",
    "On the first line:\n",
    "```python\n",
    "def fib(n):\n",
    "```\n",
    "`def` is the keyword in Python to start the definition of a function.\n",
    "When one wants to create a function, they will most of the time start with `def`.\n",
    "Then (`fib`) is the name of the function followed by the sequence of arguments of the function (here there is only one: `n`).\n",
    "\n",
    "The following lines:\n",
    "```python\n",
    "    \"\"\"\n",
    "    This function returns the highest fibonacci\n",
    "    number which is lower than n.\n",
    "    \n",
    "    Args:\n",
    "        n (int): upper boundary for the fibonacci number\n",
    "    \n",
    "    Returns:\n",
    "        (int): higher fibo number lower than n\n",
    "    \"\"\"\n",
    "```\n",
    "are the description of the function.\n",
    "This part is not mandatory __BUT__ please do comment and document your code, it is most important!\n",
    "\n",
    "Then, there is the code of the function:\n",
    "```python\n",
    "    a, b = 1, 1\n",
    "    for _ in range(n):\n",
    "        a, b = b, a+b \n",
    "```\n",
    "\n",
    "And finally the last last line:\n",
    "```python\n",
    "    return b\n",
    "```\n",
    "which informs the program what the function will return.\n",
    "\n",
    "You can then call the function the following way:"
   ]
  },
  {
   "cell_type": "code",
   "execution_count": null,
   "metadata": {},
   "outputs": [],
   "source": [
    "fib(9)"
   ]
  },
  {
   "cell_type": "markdown",
   "metadata": {},
   "source": [
    "To improve the readability of a function you can specify what is the data type that is expected as an input and as an output.\n",
    "\n",
    "That can be done the following way:\n",
    "```python\n",
    "def fib(n: int) -> int:\n",
    "    \"\"\"\n",
    "    This function returns the n-th Fibonnaci number.\n",
    "    \n",
    "    Args:\n",
    "        n (int): rank of the desired Fibonnaci number in the series\n",
    "    \n",
    "    Returns:\n",
    "        (int): n-th Fibonnaci number\n",
    "    \"\"\"\n",
    "    a, b = 1, 1\n",
    "    i = 1\n",
    "    while i < n:\n",
    "        a, b = b, a+b\n",
    "        i+=1\n",
    "    return b\n",
    "```"
   ]
  },
  {
   "cell_type": "markdown",
   "metadata": {},
   "source": [
    "## Functions with multiple arguments.\n",
    "\n",
    "A given function can of course have multiple arguments.\n",
    "\n",
    "For example:"
   ]
  },
  {
   "cell_type": "code",
   "execution_count": null,
   "metadata": {},
   "outputs": [],
   "source": [
    "def combining(begin: str, middle: str, end: str, sep: str) -> str:\n",
    "    \"\"\"\n",
    "    Concatenate the beginning, middle and end strings,\n",
    "    separating them with the string sep\n",
    "\n",
    "    Args:\n",
    "        begin (str): first string to concatenate\n",
    "        middle (str): second string to concatenate\n",
    "        end (str): third string to concatenate\n",
    "        sep (str): separator between strings\n",
    "\n",
    "    Returns:\n",
    "        (str): the concatenated strings\n",
    "    \"\"\"\n",
    "    output = sep.join([begin, middle, end])\n",
    "    return output"
   ]
  },
  {
   "cell_type": "markdown",
   "metadata": {},
   "source": [
    "The previous function can be called multiple ways, one of them:"
   ]
  },
  {
   "cell_type": "code",
   "execution_count": null,
   "metadata": {},
   "outputs": [],
   "source": [
    "out = combining(\"Hello\", \"World\", \"!\", \" \")\n",
    "print(out)"
   ]
  },
  {
   "cell_type": "markdown",
   "metadata": {},
   "source": [
    "\n",
    "This is an implicit call where the position of the arguments define to which variable they will be attributed to.\n",
    "\n",
    "Of course, in that specific case, if you change the order, it will change the result:"
   ]
  },
  {
   "cell_type": "code",
   "execution_count": null,
   "metadata": {},
   "outputs": [],
   "source": [
    "out = combining(\"!\", \"world\", \" \", \"Hello\")\n",
    "print(out)"
   ]
  },
  {
   "cell_type": "markdown",
   "metadata": {},
   "source": [
    "\n",
    "It is also possible to name the arguments explicitly:"
   ]
  },
  {
   "cell_type": "code",
   "execution_count": null,
   "metadata": {},
   "outputs": [],
   "source": [
    "out = combining(begin=\"Hello\", middle=\"world\", end=\"!\", sep=\" \")\n",
    "print(out)"
   ]
  },
  {
   "cell_type": "markdown",
   "metadata": {},
   "source": [
    "\n",
    "In that case the order can be changed however we want:"
   ]
  },
  {
   "cell_type": "code",
   "execution_count": null,
   "metadata": {},
   "outputs": [],
   "source": [
    "out = combining(end=\"!\", middle=\"world\", sep=\" \", begin=\"Hello\")\n",
    "print(out)"
   ]
  },
  {
   "cell_type": "markdown",
   "metadata": {},
   "source": [
    "A mix between explicit and implicit can also be done. For obvious reasons, you have to be implicit and __only then__ explicit:"
   ]
  },
  {
   "cell_type": "code",
   "execution_count": null,
   "metadata": {},
   "outputs": [],
   "source": [
    "out = combining(\"Hello\", \"world\", end=\"!\", sep=\" \")\n",
    "print(out)"
   ]
  },
  {
   "cell_type": "markdown",
   "metadata": {},
   "source": [
    "Any implicit argument after explicit ones will break the code:"
   ]
  },
  {
   "cell_type": "code",
   "execution_count": null,
   "metadata": {},
   "outputs": [],
   "source": [
    "out = combining(\"Hello\", \"world\", end=\"!\", \" \")\n",
    "print(out)"
   ]
  },
  {
   "cell_type": "markdown",
   "metadata": {},
   "source": [
    "## Default values\n",
    "\n",
    "Default values can be given to the arguments of a function:"
   ]
  },
  {
   "cell_type": "code",
   "execution_count": null,
   "metadata": {},
   "outputs": [],
   "source": [
    "def combining(begin: str, middle: str, end: str, sep: str = \" \") -> str:\n",
    "    \"\"\"\n",
    "    Concatenate the beginning, middle and end strings,\n",
    "    separating them with the string sep\n",
    "\n",
    "    Args:\n",
    "        begin (str): first string to concatenate\n",
    "        middle (str): second string to concatenate\n",
    "        end (str): third string to concatenate\n",
    "        sep (str): separator between strings\n",
    "\n",
    "    Returns:\n",
    "        (str): the concatenated strings\n",
    "    \"\"\"\n",
    "    output = sep.join([begin, middle, end])\n",
    "    return output"
   ]
  },
  {
   "cell_type": "markdown",
   "metadata": {},
   "source": [
    "In that case, if left empty, the default value will be used:"
   ]
  },
  {
   "cell_type": "code",
   "execution_count": null,
   "metadata": {},
   "outputs": [],
   "source": [
    "out = combining(\"a\", \"b\", \"c\")\n",
    "print(out)\n",
    "\n",
    "out = combining(\"a\", \"b\", \"c\", \"-\")\n",
    "print(out)"
   ]
  },
  {
   "cell_type": "markdown",
   "metadata": {},
   "source": [
    "## To go further:\n",
    "\n",
    "There are two specific arguments:\n",
    "- `*args`: it catches any added positional argument\n",
    "- `**kwargs`: it catches any added keyword argument"
   ]
  },
  {
   "cell_type": "code",
   "execution_count": null,
   "metadata": {},
   "outputs": [],
   "source": [
    "def foo(a, b=10, *args, **kwargs) -> str:\n",
    "    print(a, b)\n",
    "    print(args)\n",
    "    print(kwargs)\n",
    "    print(\"end of function\\n\")\n",
    "\n",
    "\n",
    "foo(1)\n",
    "foo(1, 2, 3, c=1, d=2)"
   ]
  },
  {
   "cell_type": "markdown",
   "metadata": {},
   "source": [
    "What is it good for?\n",
    "\n",
    "Well, you can now have functions that take an arbitrary number of positional arguments and an arbitrary number of keyword arguments.\n",
    "\n",
    "For example, if you want to be able to concatenate any number of strings in the middle of your string using the previous function, you could do it that way:"
   ]
  },
  {
   "cell_type": "code",
   "execution_count": null,
   "metadata": {},
   "outputs": [],
   "source": [
    "def combining(begin, middle, end, *args, sep=\" \"):\n",
    "    out = sep.join((begin, middle) + args + (end,))\n",
    "    return out\n",
    "\n",
    "\n",
    "combining(\"a\", \"b\", \"c\", \"d\", \"e\", \"f\", \"g\")"
   ]
  },
  {
   "cell_type": "markdown",
   "metadata": {},
   "source": [
    "Note that if you want to you don't put `sep=\" \"` after `*args` you will keep it as a positional argument and that might have weird behaviors:"
   ]
  },
  {
   "cell_type": "code",
   "execution_count": null,
   "metadata": {
    "vscode": {
     "languageId": "perl"
    }
   },
   "outputs": [],
   "source": [
    "def combining(begin, middle, end, sep=\" \", *args):\n",
    "    out = sep.join((begin, middle) + args + (end,))\n",
    "    return out\n",
    "\n",
    "\n",
    "combining(\"a\", \"b\", \"c\", \"d\", \"e\", \"f\", \"g\")"
   ]
  },
  {
   "cell_type": "markdown",
   "metadata": {},
   "source": [
    "In that case:\n",
    "- `begin=\"a\"`\n",
    "- `middle=\"b\"`\n",
    "- `end=\"c\"`\n",
    "- `sep=\"d`\n",
    "\n",
    "hence the ouput\n",
    "\n",
    "`'adbdedfdgdc'`"
   ]
  },
  {
   "cell_type": "markdown",
   "metadata": {},
   "source": [
    "It is also important to remember that if one is using `*args`, all arguments after `*args` *__have__* to be explicitly defined. So in the following example, one has to specify `sep=` to change its value."
   ]
  },
  {
   "cell_type": "code",
   "execution_count": null,
   "metadata": {},
   "outputs": [],
   "source": [
    "def combining(begin, middle, end, *args, sep=\" \"):\n",
    "    out = sep.join((begin, middle) + args + (end,))\n",
    "    return out\n",
    "\n",
    "\n",
    "combining(\"a\", \"b\", \"c\", \"d\", \"e\", \"f\", \"g\", sep=\"/\")"
   ]
  },
  {
   "cell_type": "markdown",
   "metadata": {},
   "source": [
    "That property means that everything after `*` have to be explicitly given. That can then be used to force the users to explicitly name the arguments of the function:"
   ]
  },
  {
   "cell_type": "code",
   "execution_count": null,
   "metadata": {},
   "outputs": [],
   "source": [
    "def combining_1(begin, middle, end, sep=\" \"):\n",
    "    out = sep.join((begin, middle, end))\n",
    "    return out\n",
    "\n",
    "\n",
    "def combining_2(begin, middle, *, end, sep=\" \"):\n",
    "    out = sep.join((begin, middle, end))\n",
    "    return out\n",
    "\n",
    "\n",
    "out = combining_1(\"a1\", \"b1\", \"c1\")\n",
    "print(out)\n",
    "\n",
    "out = combining_2(\"a2\", \"b2\", end=\"c2\")\n",
    "print(out)\n",
    "\n",
    "out = combining_2(\"a\", \"b\", \"c\")\n",
    "print(out)"
   ]
  },
  {
   "cell_type": "markdown",
   "metadata": {},
   "source": [
    "[To the next notebook](1.Classes.ipynb)"
   ]
  }
 ],
 "metadata": {
  "kernelspec": {
   "display_name": "Python 3 (ipykernel)",
   "language": "python",
   "name": "python3"
  },
  "language_info": {
   "codemirror_mode": {
    "name": "ipython",
    "version": 3
   },
   "file_extension": ".py",
   "mimetype": "text/x-python",
   "name": "python",
   "nbconvert_exporter": "python",
   "pygments_lexer": "ipython3",
   "version": "3.9.12"
  }
 },
 "nbformat": 4,
 "nbformat_minor": 4
}
