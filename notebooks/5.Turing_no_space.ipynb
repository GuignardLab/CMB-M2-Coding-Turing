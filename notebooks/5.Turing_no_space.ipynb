{
 "cells": [
  {
   "cell_type": "markdown",
   "metadata": {},
   "source": [
    "# Turing without space"
   ]
  },
  {
   "cell_type": "markdown",
   "metadata": {},
   "source": [
    "\n",
    "In this section we will start modeling.\n",
    "First thing first let's get ride of space and just look at how the ligands behaves when there is no diffusion"
   ]
  },
  {
   "cell_type": "markdown",
   "metadata": {},
   "source": [
    "## No space and one ligand"
   ]
  },
  {
   "cell_type": "markdown",
   "metadata": {},
   "source": [
    "\n",
    "Using the class scafold below (or another one if you prefer), create a class that models the activator equation in one cell (so without diffusion) and without any inhibitor, in other words, [1] becomes:\n",
    "\n",
    "$$\\frac{\\delta a}{\\delta t} = a - a^3 + k$$\n",
    "\n",
    "Once instantiated, the class should have a `run` method that runs the model until time `T` with the $\\delta t$ specified by `dt`.\n",
    "\n",
    "Each steps of the run should be stored in a 1 dimensional `np.ndarray` named `A`."
   ]
  },
  {
   "cell_type": "code",
   "execution_count": null,
   "metadata": {},
   "outputs": [],
   "source": [
    "from turing_models import TuringInit\n",
    "\n",
    "class Turing(TuringInit):\n",
    "\n",
    "    def reaction(self):\n",
    "        ...\n",
    "\n",
    "    def __init__(self, **kwargs):\n",
    "        super().__init__(**kwargs)\n",
    "\n",
    "model = Turing()\n",
    "...\n",
    "model.plot_reactions()"
   ]
  },
  {
   "cell_type": "markdown",
   "metadata": {},
   "source": [
    "## No space, and 2 independant ligands"
   ]
  },
  {
   "cell_type": "markdown",
   "metadata": {},
   "source": [
    "Using the class scafold below (or another one if you prefer), create a class that models the activator and inhibitor equations in one cell (so without diffusion) such that they are independant from each others.\n",
    "In other words, [1] becomes:\n",
    "\n",
    "$$\\frac{\\delta a}{\\delta t} = a - a^3 + k$$\n",
    "\n",
    "and [2] becomes:\n",
    "\n",
    "$$\\tau \\frac{\\delta i}{\\delta t} = - i$$\n",
    "\n",
    "Once instantiated, the class should have a `run` method that runs the model until time `T` with the $\\delta t$ specified by `dt`.\n",
    "\n",
    "Each steps of the run should be stored in two 1 dimensional `ndarray`s named `A` and `I`."
   ]
  },
  {
   "cell_type": "code",
   "execution_count": null,
   "metadata": {},
   "outputs": [],
   "source": [
    "class Turing(TuringInit):\n",
    "\n",
    "    def reaction(self):\n",
    "        ...\n",
    "\n",
    "    def __init__(self, **kwargs):\n",
    "        super().__init__(**kwargs)\n",
    "        ...\n",
    "\n",
    "\n",
    "model = Turing()\n",
    "...\n",
    "model.plot_reactions()"
   ]
  },
  {
   "cell_type": "markdown",
   "metadata": {},
   "source": [
    "## No space and two interdependants ligands"
   ]
  },
  {
   "cell_type": "markdown",
   "metadata": {},
   "source": [
    "Using the class scafold below (or another one if you prefer), create a class that models the activator and inhibitor equations in one cell (so without diffusion) such that they are dependant from each others.\n",
    "In other words, [1] becomes:\n",
    "\n",
    "$$\\frac{\\delta a}{\\delta t} = a - a^3 - i + k$$\n",
    "\n",
    "and [2] becomes:\n",
    "\n",
    "$$\\tau \\frac{\\delta i}{\\delta t} = a - i$$\n",
    "\n",
    "Once instantiated, the class should have a `run` method that runs the model until time `T` with the $\\delta t$ specified by `dt`.\n",
    "\n",
    "Each steps of the run should be stored in two `ndarray`s named `A` and `I`."
   ]
  },
  {
   "cell_type": "code",
   "execution_count": null,
   "metadata": {},
   "outputs": [],
   "source": [
    "class Turing(TuringInit):\n",
    "\n",
    "    def reaction(self):\n",
    "        ...\n",
    "\n",
    "    def __init__(self, **kwargs):\n",
    "        super().__init__(**kwargs)\n",
    "\n",
    "\n",
    "model = Turing()\n",
    "...\n",
    "model.plot_reactions()"
   ]
  }
 ],
 "metadata": {
  "kernelspec": {
   "display_name": "sandbox",
   "language": "python",
   "name": "python3"
  },
  "language_info": {
   "codemirror_mode": {
    "name": "ipython",
    "version": 3
   },
   "file_extension": ".py",
   "mimetype": "text/x-python",
   "name": "python",
   "nbconvert_exporter": "python",
   "pygments_lexer": "ipython3",
   "version": "3.9.12"
  },
  "orig_nbformat": 4
 },
 "nbformat": 4,
 "nbformat_minor": 2
}
