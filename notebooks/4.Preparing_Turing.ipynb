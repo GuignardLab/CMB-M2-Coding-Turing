{
 "cells": [
  {
   "cell_type": "markdown",
   "metadata": {},
   "source": [
    "# Turing patterns\n",
    "Now about Turing patterns, they were introduced by Alan Turing in the article [The Chemical Basis of Morphogenesis](https://www.dna.caltech.edu/courses/cs191/paperscs191/turing.pdf).\n",
    "Feel free to ask questions or to look over [there](https://en.wikipedia.org/wiki/Reaction%E2%80%93diffusion_system) for more information.\n",
    "\n",
    "What is important to keep in mind is that in its simplest form, a Turing pattern is the result of the interaction between an activator and its inhibitor and their co-diffusion across a set of cells.\n",
    "\n",
    "It is this interaction and diffusion that we will model in this course. We will also learn how to graphically represent these patterns.\n",
    "\n",
    "A little bit of knowledge about how to model these interactions is necessary to better understand the remainder of the course.\n",
    "First, we will be talking about an activator that will name $A$ and an inhibitor that will name $I$. Their concentration values will be refered to as $a$ and $i$ respectively.\n",
    "\n",
    "The gene regulation network that we are considering here is the simple one where $A$ auto-activates and activates $I$ and $I$ inhibits $A$:\n",
    "\n",
    "<img src=\"../Images/GRN.png\" alt=\"Gene Regulation Network\" width=\"200\"/>\n",
    "\n",
    "From this network, we can extract the interaction between activator $A$ and an inhibitor $I$ as follow:\n",
    "\n",
    "$A \\rightarrow A$ ($A$ is auto activated)\n",
    "\n",
    "$A \\rightarrow I$ ($A$ activates $I$)\n",
    "\n",
    "$I \\dashv A$ ($I$ inhibits $A$)\n",
    "\n",
    "These interactions can be modelled multiple ways.\n",
    "We decided here to use the [FitzHugh–Nagumo model](https://en.wikipedia.org/wiki/FitzHugh%E2%80%93Nagumo_model) (for no particular reason but that it is slightly more complex than the original Turing model) resulting in the following equations:\n",
    "\n",
    "$\\frac{\\delta a}{\\delta t} = \\mu_a\\Delta a + a - a^3 - i + k$ [1]\n",
    "\n",
    "$\\tau \\frac{\\delta i}{\\delta t} = \\mu_i\\Delta i + a - i$ [2]\n",
    "\n",
    "These are partial differential equations that represent the change of concentration of $A$ ($\\delta a$) or $I$ ($\\delta i$) in time ($\\delta t$).\n",
    "\n",
    "In equation [1], $\\Delta a$ is the potential diffusion $A$ and $\\mu_a$ is the diffusion coefficient.\n",
    "$+ a$ is the auto-activation of $A$, $-a^3$ is the degradation, $-i$ is the inhibition from $I$ and $k$ is a constant to determine whether $A$ acts as a source ($0<k$), a sink ($k<0$) or is neutral ($k=0$).\n",
    "\n",
    "In equation [2], $\\Delta i$ is the potential diffusion of $I$ and $\\mu_i$ is the diffusion coefficient.\n",
    "$+a$ is the activation from $A$, $-i$ is the degradation and $\\tau$ allows to modulate the amplitude of change of concentration of $I$ compared to the one of the activator $A$.\n",
    "\n",
    "It is important to know that to model the previous network it is necessary to decide on some values, the parameters of the model:\n",
    "- the diffusion coefficients $\\mu_a$ and $\\mu_i$ (referred to as `mu_a` and `mu_i` in the code)\n",
    "- the constant $\\tau$ (referred to as `tau`)\n",
    "- the constant $k$ (referred to as `k`)\n",
    "\n",
    "Because we will solve the differential equations numerically (as opposed to analytically) using \"simple\" numerical models, we will fix the value of $\\delta t$. Therefore:\n",
    "- $\\delta t$ is a parameter (referred to as `dt`)\n",
    "\n",
    "Moreover other values are necessary for the computation also need to be decided:\n",
    "- the size of the grid we will be working on, ie the number of cells considered (referred to as `size`)\n",
    "- the distance between two cells (ie the space step: `dx` and `dy`)\n",
    "- the total time of the simulation (`T`)\n",
    "- the number of iterations (`n`, which is determined by the ratio of `T` over `dt`)"
   ]
  },
  {
   "cell_type": "markdown",
   "metadata": {},
   "source": [
    "# So we aim at writting a class that produces the following output\n",
    "<img src=\"../Images/My-first-Turing-Pattern.gif\" alt=\"First Turing Pattern\" width=\"200\"/>"
   ]
  },
  {
   "cell_type": "markdown",
   "metadata": {},
   "source": [
    "# Preparing Turing\n",
    "\n",
    "For our class to work properly, it is necessary that it contains all the parameters of the model we are using.\n",
    "\n",
    "## Exercice\n",
    "Write a class that:\n",
    "1) contains all the parameters necessary to run our model\n",
    "2) when called naked initialised the parameters to their default values\n",
    "3) can be initialised with different values of the parameters\n",
    "4) can print the values of its different parameters\n",
    "\n",
    "Here are the necessary parameters together with their initial values:\n",
    "- mu_a: 0.00028\n",
    "- mu_i: 0.005\n",
    "- tau: 0.1\n",
    "- k: -0.005\n",
    "- size: 100 \n",
    "- dx: 2 divided by the size of the grid\n",
    "- dy: 2 divided by the size of the grid\n",
    "- T: 9\n",
    "- dt: 0.001\n",
    "- n: number of iterations which is the total time `T` divided by the time step `dt`\n",
    "\n",
    "The class could be called the following way:\n",
    "\n",
    "```python\n",
    "> model_1 = Turing()\n",
    "> print(model_1)\n",
    "mu_a=0.00028\n",
    "mu_i=0.005\n",
    "tau=0.1\n",
    "k=-0.005\n",
    "size=200 \n",
    "dx=0.01\n",
    "dy=0.01\n",
    "T=9\n",
    "dt=0.001\n",
    "n=9000\n",
    "```\n",
    "\n",
    "or the following way:\n",
    "\n",
    "```python\n",
    "> model_2 = Turing(mu_a=10, tau=1, T=10, size=200)\n",
    "> print(model_1)\n",
    "mu_a=10\n",
    "mu_i=0.005\n",
    "tau=1\n",
    "k=-0.005\n",
    "size=100\n",
    "dx=0.02\n",
    "dy=0.02\n",
    "T=10\n",
    "dt=0.001\n",
    "n=10000\n",
    "```\n"
   ]
  },
  {
   "cell_type": "code",
   "execution_count": 3,
   "metadata": {},
   "outputs": [
    {
     "name": "stdout",
     "output_type": "stream",
     "text": [
      "<__main__.Turing object at 0x10a9a5b80>\n",
      "<__main__.Turing object at 0x10a9a57c0>\n"
     ]
    }
   ],
   "source": [
    "# Write your class below\n",
    "class Turing:\n",
    "    def __init__(self, *args, **kwargs):\n",
    "        ...\n",
    "    \n",
    "model_1 = Turing()\n",
    "print(model_1)\n",
    "model_2 = Turing(mu_a=10, tau=1, T=10, size=200)\n",
    "print(model_2)"
   ]
  },
  {
   "cell_type": "markdown",
   "metadata": {},
   "source": [
    "# Turing without space and only one ligand\n",
    "\n"
   ]
  }
 ],
 "metadata": {
  "kernelspec": {
   "display_name": "sandbox",
   "language": "python",
   "name": "python3"
  },
  "language_info": {
   "codemirror_mode": {
    "name": "ipython",
    "version": 3
   },
   "file_extension": ".py",
   "mimetype": "text/x-python",
   "name": "python",
   "nbconvert_exporter": "python",
   "pygments_lexer": "ipython3",
   "version": "3.9.12"
  },
  "orig_nbformat": 4
 },
 "nbformat": 4,
 "nbformat_minor": 2
}
