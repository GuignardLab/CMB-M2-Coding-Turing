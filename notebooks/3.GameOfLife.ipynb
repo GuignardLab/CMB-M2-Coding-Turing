{
 "cells": [
  {
   "cell_type": "markdown",
   "metadata": {},
   "source": [
    "## Example of class\n",
    "A class for [Conway's game of life automaton](https://en.wikipedia.org/wiki/Conway%27s_Game_of_Life):\n",
    "\n",
    "But first a quick reminder of some basic operations:"
   ]
  },
  {
   "cell_type": "code",
   "execution_count": 3,
   "metadata": {},
   "outputs": [
    {
     "data": {
      "text/plain": [
       "7"
      ]
     },
     "execution_count": 3,
     "metadata": {},
     "output_type": "execute_result"
    }
   ],
   "source": [
    "a = 1\n",
    "a += 1 # a = a + 1\n",
    "a *= 2 # a = a * 2\n",
    "# | # bitwise or\n",
    "3 | 4\n",
    "# 4 = 1 0 0 ; 3 = 0 1 1\n",
    "# 4 | 3 = 1 1 1 = 7"
   ]
  },
  {
   "cell_type": "code",
   "execution_count": 1,
   "metadata": {},
   "outputs": [],
   "source": [
    "from scipy.signal import convolve2d\n",
    "import numpy as np\n",
    "import matplotlib.pyplot as plt\n",
    "\n",
    "class GameOfLife:\n",
    "    # That Kernel defines how to count the number of neighbors\n",
    "    kernel = np.array([\n",
    "        [1, 1, 1],\n",
    "        [1, 0, 1],\n",
    "        [1, 1, 1]\n",
    "    ])\n",
    "\n",
    "    def iteration(self):\n",
    "        \"\"\"\n",
    "        Run one iteration of the automaton and update the current state with its new value\n",
    "        \"\"\"\n",
    "        # Counting the neighbors\n",
    "        nb_neighbs = convolve2d(self.current_state, self.kernel, boundary='wrap', mode='same')\n",
    "        \n",
    "        # Checking the rules:\n",
    "        #   Any live cell with two or three live neighbours survives.\n",
    "        #   Any dead cell with three live neighbours becomes a live cell.\n",
    "        #   All other live cells die in the next generation. Similarly, all other dead cells stay dead.\n",
    "        new_live  = ((nb_neighbs == 3) | (nb_neighbs == 2)) & self.current_state\n",
    "        new_live |= ((nb_neighbs == 3) & (~self.current_state))\n",
    "        self.current_state = new_live\n",
    "\n",
    "    def plot(self):\n",
    "        \"\"\"\n",
    "        Plot the current state of the automaton\n",
    "        \"\"\"\n",
    "        fig, ax = plt.subplots()\n",
    "        ax.imshow(self.current_state, interpolation='nearest')\n",
    "        ax.set_xticks([])\n",
    "        ax.set_yticks([])\n",
    "        fig.tight_layout()\n",
    "        plt.show()\n",
    "    \n",
    "    def __init__(self, initial_state):\n",
    "        self.initial_state = initial_state\n",
    "        self.current_state = initial_state"
   ]
  },
  {
   "cell_type": "code",
   "execution_count": 7,
   "metadata": {},
   "outputs": [
    {
     "data": {
      "text/plain": [
       "(4, 6)"
      ]
     },
     "execution_count": 7,
     "metadata": {},
     "output_type": "execute_result"
    },
    {
     "data": {
      "image/png": "[encoded data removed]",
      "text/plain": [
       "<Figure size 432x288 with 1 Axes>"
      ]
     },
     "metadata": {
      "needs_background": "light"
     },
     "output_type": "display_data"
    }
   ],
   "source": [
    "init_state = np.array(\n",
    "    [\n",
    "        [0, 1, 0, 1, 0, 0],\n",
    "        [1, 0, 0, 0, 0, 0],\n",
    "        [0, 1, 0, 0, 1, 0],\n",
    "        [0, 0, 0, 1, 1, 1]\n",
    "    ], dtype=int\n",
    ")\n",
    "plt.imshow(init_state, interpolation='nearest')"
   ]
  },
  {
   "cell_type": "code",
   "execution_count": 29,
   "metadata": {},
   "outputs": [
    {
     "data": {
      "image/png": "[encoded data removed]",
      "text/plain": [
       "<Figure size 432x288 with 1 Axes>"
      ]
     },
     "metadata": {},
     "output_type": "display_data"
    }
   ],
   "source": [
    "size = 100\n",
    "init_state_large = np.zeros((size, size), dtype=bool)\n",
    "init_state_large[size//2-2:size//2+2, size//2-3:size//2+3] = init_state\n",
    "game_of_life = GameOfLife(init_state_large)\n",
    "game_of_life.plot()"
   ]
  },
  {
   "cell_type": "code",
   "execution_count": 30,
   "metadata": {},
   "outputs": [
    {
     "data": {
      "image/png": "[encoded data removed]",
      "text/plain": [
       "<Figure size 432x288 with 1 Axes>"
      ]
     },
     "metadata": {},
     "output_type": "display_data"
    }
   ],
   "source": [
    "for i in range(1000):\n",
    "    game_of_life.iteration()\n",
    "game_of_life.plot()"
   ]
  },
  {
   "cell_type": "code",
   "execution_count": 66,
   "metadata": {},
   "outputs": [],
   "source": [
    "class GameOfLife:\n",
    "    kernel = np.array([\n",
    "        [1, 1, 1],\n",
    "        [1, 0, 1],\n",
    "        [1, 1, 1]\n",
    "    ])\n",
    "    def iteration(self):\n",
    "        # Counting the neighbors\n",
    "        nb_neighbs = convolve2d(self.current_state, self.kernel, boundary='wrap', mode='same')\n",
    "        \n",
    "        # Checking the rules:\n",
    "        #   Any live cell with two or three live neighbours survives.\n",
    "        #   Any dead cell with three live neighbours becomes a live cell.\n",
    "        #   All other live cells die in the next generation. Similarly, all other dead cells stay dead.\n",
    "        new_live = np.zeros_like(nb_neighbs, dtype=bool)\n",
    "        for th in self.th_live:\n",
    "            new_live |= (nb_neighbs == th) & self.current_state\n",
    "        for th in self.th_dead:\n",
    "            new_live |= ((nb_neighbs == th) & (~self.current_state))\n",
    "        self.current_state = new_live\n",
    "\n",
    "    def plot(self):\n",
    "        fig, ax = plt.subplots()\n",
    "        ax.imshow(self.current_state, interpolation='nearest')\n",
    "        ax.set_xticks([])\n",
    "        ax.set_yticks([])\n",
    "        fig.tight_layout()\n",
    "        plt.show()\n",
    "    \n",
    "    def __init__(self, initial_state, th_live=[2, 3], th_dead=[3]):\n",
    "        self.initial_state = initial_state.astype(bool)\n",
    "        self.current_state = initial_state.astype(bool)\n",
    "        self.th_live = th_live\n",
    "        self.th_dead = th_dead"
   ]
  },
  {
   "cell_type": "code",
   "execution_count": 83,
   "metadata": {},
   "outputs": [],
   "source": [
    "game_of_life2 = GameOfLife(init_state_large, th_live=[2, 3], th_dead=[3])"
   ]
  },
  {
   "cell_type": "code",
   "execution_count": 669,
   "metadata": {},
   "outputs": [
    {
     "data": {
      "image/png": "[encoded data removed]",
      "text/plain": [
       "<Figure size 432x288 with 1 Axes>"
      ]
     },
     "metadata": {},
     "output_type": "display_data"
    }
   ],
   "source": [
    "for i in range(10):\n",
    "    game_of_life2.iteration()\n",
    "game_of_life2.plot()"
   ]
  }
 ],
 "metadata": {
  "kernelspec": {
   "display_name": "sandbox",
   "language": "python",
   "name": "python3"
  },
  "language_info": {
   "codemirror_mode": {
    "name": "ipython",
    "version": 3
   },
   "file_extension": ".py",
   "mimetype": "text/x-python",
   "name": "python",
   "nbconvert_exporter": "python",
   "pygments_lexer": "ipython3",
   "version": "3.9.12"
  },
  "orig_nbformat": 4
 },
 "nbformat": 4,
 "nbformat_minor": 2
}
