{
 "cells": [
  {
   "cell_type": "markdown",
   "metadata": {},
   "source": [
    "# Game of Life (an example of a class) and some reminders\n",
    "---"
   ]
  },
  {
   "cell_type": "markdown",
   "metadata": {},
   "source": [
    "A class for [Conway's game of life automaton](https://en.wikipedia.org/wiki/Conway%27s_Game_of_Life):"
   ]
  },
  {
   "cell_type": "markdown",
   "metadata": {},
   "source": [
    "## But first some quick (?) reminders"
   ]
  },
  {
   "cell_type": "markdown",
   "metadata": {},
   "source": [
    "### `*=` operator and bitwise logical operators"
   ]
  },
  {
   "cell_type": "code",
   "execution_count": 15,
   "metadata": {},
   "outputs": [
    {
     "name": "stdout",
     "output_type": "stream",
     "text": [
      "3 | 4 = 7\n",
      "3 & (3 | 4) = 3\n",
      "3 ^ (3 | 4) = 4\n"
     ]
    }
   ],
   "source": [
    "a = 1\n",
    "a += 1 # a = a + 1\n",
    "a *= 2 # a = a * 2\n",
    "# | # bitwise or\n",
    "print(f\"{3 | 4 = }\")\n",
    "# 4 = 1 0 0 ; 3 = 0 1 1\n",
    "# 4 | 3 = 1 1 1 = 7\n",
    "print(f\"{3 & (3 | 4) = }\")\n",
    "# 3 & (3 | 4) = ?\n",
    "# (3 | 4) = 7 = 1 1 1\n",
    "# 0 1 1 & 1 1 1 = 0 1 1\n",
    "print(f\"{3 ^ (3 | 4) = }\")"
   ]
  },
  {
   "cell_type": "markdown",
   "metadata": {},
   "source": [
    "### `np.ndarray` array manipulation"
   ]
  },
  {
   "cell_type": "markdown",
   "metadata": {},
   "source": [
    "`np.ndarray`s are `n` dimentional arrays that are very effictient to manipulate.\n",
    "\n",
    "It can be worth remembering some of their properties:"
   ]
  },
  {
   "cell_type": "markdown",
   "metadata": {},
   "source": [
    "#### Array creation"
   ]
  },
  {
   "cell_type": "code",
   "execution_count": 57,
   "metadata": {},
   "outputs": [],
   "source": [
    "## Importing numpy:\n",
    "import numpy as np\n",
    "\n",
    "## Creating a ndarray filled with 0s of dimension 10 by 5:\n",
    "arr0 = np.zeros((10, 5))\n",
    "\n",
    "## Creating a ndarray filled with 1s of dimension 3 by 6 by 2:\n",
    "arr1 = np.ones((3, 6, 2))\n",
    "\n",
    "## Creating an array with ordered numbers from 0 to 11:\n",
    "arr = np.arange(12)\n",
    "# -> [ 0  1  2  3  4  5  6  7  8  9 10 11]\n",
    "\n",
    "## Rearanging the previsous array as a 3 by 4 array:\n",
    "arr = arr.reshape(3, 4)\n",
    "# -> [[ 0  1  2  3]\n",
    "#     [ 4  5  6  7]\n",
    "#     [ 8  9 10 11]]\n",
    "\n",
    "## Rearanging the previsous array as a 3 by 4 array:\n",
    "arr = arr.reshape(3, 2, 2)\n",
    "# -> [[[ 0  1]\n",
    "#      [ 2  3]]\n",
    "#      \n",
    "#     [[ 4  5]\n",
    "#      [ 6  7]]\n",
    "#      \n",
    "#     [[ 8  9]\n",
    "#      [10 11]]]\n",
    "\n",
    "## Slicing an array\n",
    "### Creating a larger array\n",
    "arr = np.arange(200)\n",
    "arr = arr.reshape(10, 5, -1)\n",
    "# arr.shape -> (10, 5, 4)"
   ]
  },
  {
   "cell_type": "markdown",
   "metadata": {},
   "source": [
    "#### Array slicing and access"
   ]
  },
  {
   "cell_type": "code",
   "execution_count": null,
   "metadata": {},
   "outputs": [],
   "source": [
    "### Slicing the array\n",
    "arr = arr[2:5, :-3, ::2]\n",
    "# -> [[[40 42]\n",
    "#      [44 46]]\n",
    "#    \n",
    "#     [[60 62]\n",
    "#      [64 66]]\n",
    "#    \n",
    "#     [[80 82]\n",
    "#      [84 86]]]\n",
    "\n",
    "## Changing the values of an array\n",
    "arr = np.arange(20)\n",
    "arr = arr.reshape(5, 2, -1)\n",
    "\n",
    "### change the value at position (4, 1, 0) to 1\n",
    "arr[1, 1, 0] = -1\n",
    "\n",
    "### change all the values of the 8th slice to 10\n",
    "arr[3] = 10\n",
    "\n",
    "### change the value of every other slice to 3 starting with the first one\n",
    "arr[::2] = 3\n",
    "\n",
    "# -> [[[ 3  3]\n",
    "#      [ 3  3]]\n",
    "#   \n",
    "#     [[ 4  5]\n",
    "#      [-1  7]]\n",
    "#   \n",
    "#     [[ 3  3]\n",
    "#      [ 3  3]]\n",
    "#   \n",
    "#     [[10 10]\n",
    "#      [10 10]]\n",
    "#   \n",
    "#     [[ 3  3]\n",
    "#      [ 3  3]]]"
   ]
  },
  {
   "cell_type": "markdown",
   "metadata": {},
   "source": [
    "#### Array masking"
   ]
  },
  {
   "cell_type": "code",
   "execution_count": 70,
   "metadata": {},
   "outputs": [],
   "source": [
    "arr = np.arange(200)\n",
    "arr = arr.reshape(10, 5, -1)\n",
    "\n",
    "mask = arr%3==1\n",
    "# -> mask[i] == True where the rest of the whole division of arr[i] by 3 is 1.\n",
    "\n",
    "# masking the original array, returns a view on the orginal array where mask is True.\n",
    "arr[mask]\n",
    "# -> [  1   4   7  10  13  16  19  22  25  28  31  34  37  40  43  46  49  52\n",
    "#      55  58  61  64  67  70  73  76  79  82  85  88  91  94  97 100 103 106\n",
    "#     109 112 115 118 121 124 127 130 133 136 139 142 145 148 151 154 157 160\n",
    "#     163 166 169 172 175 178 181 184 187 190 193 196 199]\n",
    "\n",
    "# Setting all values where the mask is true to 0 in the table \n",
    "arr[mask] = 0\n"
   ]
  },
  {
   "cell_type": "markdown",
   "metadata": {},
   "source": [
    "#### Array operations"
   ]
  },
  {
   "cell_type": "code",
   "execution_count": 109,
   "metadata": {},
   "outputs": [
    {
     "data": {
      "text/plain": [
       "(True, True)"
      ]
     },
     "execution_count": 109,
     "metadata": {},
     "output_type": "execute_result"
    }
   ],
   "source": [
    "arr = np.arange(20)\n",
    "arr = arr.reshape(5, 4)\n",
    "\n",
    "## adding/substracting/multiplying/... a scalar to all cell of the array:\n",
    "arr1 = arr + 1\n",
    "arr2 = arr * 2\n",
    "arr3 = arr ** 3\n",
    "arr4 = arr // 3\n",
    "\n",
    "## pairwise addition/multiplication/... between arrays\n",
    "arr_sum = arr1 + arr2\n",
    "arr_mult = arr2 * arr1\n",
    "arr_mod = arr_mult % arr1\n",
    "### Guess what are the values of `arr_mod`\n",
    "\n",
    "## Matrix multiplication/dot product\n",
    "arr_dot1 = arr1 @ arr2.T\n",
    "### or\n",
    "arr_dot2 = np.dot(arr1, arr2.T)\n",
    "### or\n",
    "arr_dot3 = arr1.dot(arr2.T)\n",
    "(arr_dot1 == arr_dot2).all(), (arr_dot2 == arr_dot3).all()\n",
    "### CAREFUL HERE, THE @ IS EQUIVALENT TO `dot` ONLY IN 1 AND 2D"
   ]
  },
  {
   "cell_type": "markdown",
   "metadata": {},
   "source": [
    "### Image convolution in computer vision"
   ]
  },
  {
   "cell_type": "markdown",
   "metadata": {},
   "source": [
    "A continuous convolution between two function $f$ and $g$ can generally be characterised mathematically as follow:\n",
    "$$ (f\\ast g)(x) = \\int_{-\\infty}^{\\infty} f(x-\\tau) . g(\\tau)d\\tau$$\n",
    "\n",
    "In our specific case, we are more intereseted in discrete convolution between a bounded 2D image $I$ and a bounded 2D kernel $K$ of size $N\\times M$.\n",
    "\n",
    "In that case the equation can be writen as follow:\n",
    "$$\n",
    "(I\\ast K)(x, y) = \\sum_{i=-\\left\\lfloor\\frac{N}{2}\\right\\rfloor}^{\\left\\lfloor\\frac{N}{2}\\right\\rfloor}\n",
    "\\sum_{j=-\\left\\lfloor\\frac{M}{2}\\right\\rfloor}^{\\left\\lfloor\\frac{M}{2}\\right\\rfloor} I(x+i,y+j).K(i, j)\n",
    "$$\n"
   ]
  },
  {
   "cell_type": "markdown",
   "metadata": {},
   "source": [
    "Let see what it means on an example:\n",
    "\n",
    "<img src=\"../Images/Gauss.png\" alt=\"Diffusion\" width=\"500\"/>"
   ]
  },
  {
   "cell_type": "markdown",
   "metadata": {},
   "source": [
    "Now, if we carefully choose our kernel and, if we have a binary image we can get this kind of convolution:\n",
    "\n",
    "<img src=\"../Images/Neighbs.png\" alt=\"Diffusion\" width=\"500\"/>\n",
    "\n",
    "Can you guess what it does?"
   ]
  },
  {
   "cell_type": "markdown",
   "metadata": {},
   "source": [
    "## Now, an example of a Conway's Game of Life class in python"
   ]
  },
  {
   "cell_type": "code",
   "execution_count": 4537,
   "metadata": {},
   "outputs": [],
   "source": [
    "from scipy.signal import convolve2d\n",
    "import numpy as np\n",
    "import matplotlib.pyplot as plt\n",
    "\n",
    "class GameOfLife:\n",
    "    # That Kernel defines how to count the number of neighbors\n",
    "    kernel = np.array([\n",
    "        [1, 1, 1],\n",
    "        [1, 0, 1],\n",
    "        [1, 1, 1]\n",
    "    ])\n",
    "    boundary = \"wrap\"\n",
    "\n",
    "    def iterations(self, nb_iter=1):\n",
    "        \"\"\"\n",
    "        Run one iteration of the automaton and update the current state with its new value\n",
    "\n",
    "        Args:\n",
    "            nb_iter (int): specify how many iterations have to be ran (default 1)\n",
    "        \"\"\"\n",
    "        for _ in range(nb_iter):\n",
    "            # Counting the neighbors\n",
    "            # Changing the boundary parameter will change the behavior of the game of life.\n",
    "            nb_neighbs = convolve2d(self.current_state, self.kernel, boundary=self.boundary, mode='same')\n",
    "            \n",
    "            # Checking the rules:\n",
    "            #   Any live cell with two or three live neighbours survives.\n",
    "            new_live  = ((nb_neighbs == 3) | (nb_neighbs == 2)) & self.current_state\n",
    "            \n",
    "            #   Any dead cell with three live neighbours becomes a live cell.\n",
    "            new_live |= ((nb_neighbs == 3) & (~self.current_state))\n",
    "            #   All other live cells die in the next generation. Similarly, all other dead cells stay dead.\n",
    "            self.current_state = new_live\n",
    "    \n",
    "    def plot(self):\n",
    "        \"\"\"\n",
    "        Plot the current state of the automaton\n",
    "        \"\"\"\n",
    "        if isinstance(self, GameOfLife):\n",
    "            image = self.current_state\n",
    "        else:\n",
    "            image = self\n",
    "        fig, ax = plt.subplots()\n",
    "        ax.imshow(image, interpolation='nearest', cmap=\"gray\")\n",
    "        ax.set_xticks([])\n",
    "        ax.set_yticks([])\n",
    "        fig.tight_layout()\n",
    "        plt.show()\n",
    "\n",
    "    def __init__(self, initial_state, boundary=None):\n",
    "        self.initial_state = initial_state\n",
    "        self.current_state = initial_state\n",
    "        if boundary:\n",
    "            self.boundary = boundary"
   ]
  },
  {
   "cell_type": "code",
   "execution_count": 4538,
   "metadata": {},
   "outputs": [
    {
     "data": {
      "image/png": "[encoded data removed]",
      "text/plain": [
       "<Figure size 432x288 with 1 Axes>"
      ]
     },
     "metadata": {},
     "output_type": "display_data"
    }
   ],
   "source": [
    "init_state = np.array(\n",
    "    [\n",
    "        [0, 1, 0, 1, 0, 0],\n",
    "        [1, 0, 0, 0, 0, 0],\n",
    "        [0, 1, 0, 0, 1, 0],\n",
    "        [0, 0, 0, 1, 1, 1]\n",
    "    ], dtype=int\n",
    ")\n",
    "GameOfLife.plot(init_state)"
   ]
  },
  {
   "cell_type": "code",
   "execution_count": 4539,
   "metadata": {},
   "outputs": [
    {
     "data": {
      "image/png": "[encoded data removed]",
      "text/plain": [
       "<Figure size 432x288 with 1 Axes>"
      ]
     },
     "metadata": {},
     "output_type": "display_data"
    }
   ],
   "source": [
    "size = 100\n",
    "init_state_large = np.zeros((size, size), dtype=bool)\n",
    "init_state_large[size//2-2:size//2+2, size//2-3:size//2+3] = init_state\n",
    "game_of_life = GameOfLife(init_state_large, boundary=\"wrap\")\n",
    "game_of_life.plot()"
   ]
  },
  {
   "cell_type": "code",
   "execution_count": 4739,
   "metadata": {},
   "outputs": [
    {
     "data": {
      "image/png": "[encoded data removed]",
      "text/plain": [
       "<Figure size 432x288 with 1 Axes>"
      ]
     },
     "metadata": {},
     "output_type": "display_data"
    }
   ],
   "source": [
    "game_of_life.iterations(10)\n",
    "game_of_life.plot()"
   ]
  },
  {
   "cell_type": "code",
   "execution_count": 4740,
   "metadata": {},
   "outputs": [],
   "source": [
    "class GameOfLifeGeneral(GameOfLife):\n",
    "    def iterations(self, nb_iter=1):\n",
    "        \"\"\"\n",
    "        Run one iteration of the automaton and update the current state with its new value\n",
    "\n",
    "        Args:\n",
    "            nb_iter (int): specify how many iterations have to be ran (default 1)\n",
    "        \"\"\"\n",
    "        for _ in range(nb_iter):\n",
    "            # Counting the number of neighbors\n",
    "            # Changing the boundary parameter will \n",
    "            nb_neighbs = convolve2d(self.current_state, self.kernel, boundary=self.boundary, mode='same')\n",
    "            \n",
    "            new_live = np.zeros_like(nb_neighbs, dtype=bool)\n",
    "            # Checking the rules:\n",
    "            #   Any live cell with two or three live neighbours survives.\n",
    "            for th in self.th_live:\n",
    "                new_live |= (nb_neighbs == th) & self.current_state\n",
    "            #   Any dead cell with three live neighbours becomes a live cell.\n",
    "            for th in self.th_dead:\n",
    "                new_live |= ((nb_neighbs == th) & (~self.current_state))\n",
    "            #   All other live cells die in the next generation. Similarly, all other dead cells stay dead.\n",
    "            self.current_state = new_live\n",
    "\n",
    "    def __init__(self, initial_state, boundary=None, th_live=[2, 3], th_dead=[3]):\n",
    "        super().__init__(initial_state, boundary=boundary)\n",
    "        if not hasattr(th_live, \"__iter__\"):\n",
    "            th_live = [th_live]\n",
    "        if not hasattr(th_dead, \"__iter__\"):\n",
    "            th_live = [th_dead]\n",
    "        self.th_live = th_live\n",
    "        self.th_dead = th_dead"
   ]
  },
  {
   "cell_type": "code",
   "execution_count": 5113,
   "metadata": {},
   "outputs": [],
   "source": [
    "size = 300\n",
    "init_state_large = np.zeros((size, size), dtype=bool)\n",
    "init_state_large[size//3-2:size//3+2, size//3-3:size//3+3] = init_state\n",
    "game_of_life2 = GameOfLifeGeneral(init_state_large, th_live=[1, 2, 3, 4, 5], th_dead=[3], boundary=\"wrap\")"
   ]
  },
  {
   "cell_type": "code",
   "execution_count": 5184,
   "metadata": {},
   "outputs": [
    {
     "data": {
      "image/png": "[encoded data removed]",
      "text/plain": [
       "<Figure size 432x288 with 1 Axes>"
      ]
     },
     "metadata": {},
     "output_type": "display_data"
    }
   ],
   "source": [
    "game_of_life2.iterations(10)\n",
    "game_of_life2.plot()"
   ]
  },
  {
   "cell_type": "code",
   "execution_count": 5194,
   "metadata": {},
   "outputs": [],
   "source": [
    "total_iter = 700\n",
    "nb_tp = 100\n",
    "incr = total_iter//nb_tp\n",
    "game_of_life2 = GameOfLifeGeneral(init_state_large, th_live=[1, 2, 3, 4, 5], th_dead=[3], boundary=\"wrap\")\n",
    "output = np.zeros(init_state_large.shape + (nb_tp,), dtype=\"uint8\")\n",
    "for i in range(nb_tp):\n",
    "    output[..., i] = game_of_life2.current_state\n",
    "    game_of_life2.iterations(incr)\n"
   ]
  },
  {
   "cell_type": "code",
   "execution_count": 5196,
   "metadata": {},
   "outputs": [],
   "source": [
    "## Need to have installed tifffile for that part:\n",
    "## `pip install tifffile`\n",
    "from tifffile import imwrite\n",
    "imwrite(\"GoLMaze.tif\", output.T)"
   ]
  }
 ],
 "metadata": {
  "kernelspec": {
   "display_name": "sandbox",
   "language": "python",
   "name": "python3"
  },
  "language_info": {
   "codemirror_mode": {
    "name": "ipython",
    "version": 3
   },
   "file_extension": ".py",
   "mimetype": "text/x-python",
   "name": "python",
   "nbconvert_exporter": "python",
   "pygments_lexer": "ipython3",
   "version": "3.9.12"
  },
  "orig_nbformat": 4
 },
 "nbformat": 4,
 "nbformat_minor": 2
}
