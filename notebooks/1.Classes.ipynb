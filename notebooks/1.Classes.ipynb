{
 "cells": [
  {
   "cell_type": "markdown",
   "id": "1636611c",
   "metadata": {},
   "source": [
    "# Introduction to classes\n",
    "---"
   ]
  },
  {
   "cell_type": "markdown",
   "id": "2fcb304f",
   "metadata": {},
   "source": [
    "Classes are \"just\" a way to organise your code.\n",
    "\n",
    "You've probably been exposed to classes already.\n",
    "\n",
    "For example, a `ndarray` from `numpy` is a class."
   ]
  },
  {
   "cell_type": "markdown",
   "id": "0bc82de3",
   "metadata": {},
   "source": [
    "## A little bit of semantics (from the [Python official page](https://docs.python.org/3/tutorial/classes.html))"
   ]
  },
  {
   "cell_type": "markdown",
   "id": "9d6a8997",
   "metadata": {},
   "source": [
    "Creating a new class creates a new _type_ of object, allowing new _instances_ of that type to be made. Each class instance can have attributes attached to it for maintaining its state. Class instances can also have methods (defined by its class) for modifying its state."
   ]
  },
  {
   "cell_type": "markdown",
   "id": "bca0c574",
   "metadata": {},
   "source": [
    "## What is the use of classes?"
   ]
  },
  {
   "cell_type": "markdown",
   "id": "2adf3dce",
   "metadata": {},
   "source": [
    "As mentioned before, classes are:\n",
    "1. a different (better?) way to organise your code.\n",
    "2. a way of storing attributes/parameters more efficiently\n",
    "3. a way aggregate data and methods together\n",
    "\n",
    "For example, you need to work with cells that have several metrics attached to them. Let say the concentration of two different effectors and a position:"
   ]
  },
  {
   "cell_type": "code",
   "execution_count": null,
   "id": "9809ec18",
   "metadata": {},
   "outputs": [],
   "source": [
    "# We have cells with ids 0, 1, 2, 3\n",
    "all_cells = [0, 1, 2, 3]\n",
    "\n",
    "# Their concentration in activator:\n",
    "A_concentration = {\n",
    "    0: 0.1,\n",
    "    1: 0.2,\n",
    "    4: 0.1,\n",
    "    5: 0.3,\n",
    "}\n",
    "\n",
    "# Their concentration in inhibitor:\n",
    "I_concentration = {\n",
    "    0: 0.3,\n",
    "    1: 0.6,\n",
    "    2: 0.2,\n",
    "    3: 0.1,\n",
    "}\n",
    "\n",
    "position = {\n",
    "    0: [1, 2],\n",
    "    1: [2, 5],\n",
    "    2: [0, 2],\n",
    "    3: [3, 1],\n",
    "}"
   ]
  },
  {
   "cell_type": "markdown",
   "id": "a23a431f",
   "metadata": {},
   "source": [
    "That way, one can look at a given cell concentrations and position the following way:"
   ]
  },
  {
   "cell_type": "code",
   "execution_count": null,
   "id": "ba77c582",
   "metadata": {},
   "outputs": [],
   "source": [
    "cell_id = 0  # looking at the cell that has the id 0\n",
    "print(f\"Activator concentration of cell {cell_id}: {A_concentration[cell_id]}\")\n",
    "print(f\"Inhibitor concentration of cell {cell_id}: {I_concentration[cell_id]}\")\n",
    "print(f\"Position of cell {cell_id}: {position[cell_id]}\")"
   ]
  },
  {
   "cell_type": "markdown",
   "id": "e29a02d0",
   "metadata": {},
   "source": [
    "Now, if one wants to add a cell to the list they need to make sure to update all the dictionaries together:"
   ]
  },
  {
   "cell_type": "code",
   "execution_count": null,
   "id": "ad577020",
   "metadata": {},
   "outputs": [],
   "source": [
    "all_cells.append(4)  # Adding the cell with id 4\n",
    "A_concentration[4] = 10\n",
    "I_concentration[4] = 50\n",
    "position[4] = [2, 1]"
   ]
  },
  {
   "cell_type": "markdown",
   "id": "2d00b89e",
   "metadata": {},
   "source": [
    "This is of course error prone ...\n",
    "\n",
    "Another (as error prone as the previous one) way might be like that by creating a dictionary of dictionaries:"
   ]
  },
  {
   "cell_type": "code",
   "execution_count": null,
   "id": "0ac7d778",
   "metadata": {},
   "outputs": [],
   "source": [
    "cells = {}\n",
    "cells[0] = {}\n",
    "cells[0][\"A_concentration\"] = 2\n",
    "cells[0][\"I_concentration\"] = 10\n",
    "cells[0][\"position\"] = [1, 2]\n",
    "...\n",
    "print(cells)"
   ]
  },
  {
   "cell_type": "markdown",
   "id": "8d6dc847",
   "metadata": {},
   "source": [
    "And to add a cell one would do:"
   ]
  },
  {
   "cell_type": "code",
   "execution_count": null,
   "id": "c8ad0775",
   "metadata": {},
   "outputs": [],
   "source": [
    "cells[1] = {}\n",
    "cells[1][\"A_concentration\"] = 4\n",
    "cells[1][\"I_concentration\"] = 20\n",
    "cells[1][\"position\"] = [2, 5]\n",
    "print(cells)"
   ]
  },
  {
   "cell_type": "markdown",
   "id": "07b6c717",
   "metadata": {},
   "source": [
    "Instead of carrying all the dictionaries we can rather create a class `Cell` that will have as attribute the two concentrations and position."
   ]
  },
  {
   "cell_type": "markdown",
   "id": "de457767",
   "metadata": {},
   "source": [
    "## How to create a class"
   ]
  },
  {
   "cell_type": "markdown",
   "id": "7209d295",
   "metadata": {},
   "source": [
    "The syntax to create a class is the following:"
   ]
  },
  {
   "cell_type": "code",
   "execution_count": null,
   "id": "bbfe6de0",
   "metadata": {},
   "outputs": [],
   "source": [
    "class Cell:\n",
    "    \"\"\"\n",
    "    <statment-1>\n",
    "    ...\n",
    "    <statment-n>\n",
    "    \"\"\"\n",
    "\n",
    "    ..."
   ]
  },
  {
   "cell_type": "markdown",
   "id": "c3452bd8",
   "metadata": {},
   "source": [
    "We now have a class named `Cell`. You can create/instantiate a new object the following way:"
   ]
  },
  {
   "cell_type": "code",
   "execution_count": null,
   "id": "bed0acb1",
   "metadata": {},
   "outputs": [],
   "source": [
    "c = Cell()\n",
    "print(c)"
   ]
  },
  {
   "cell_type": "markdown",
   "id": "4289459c",
   "metadata": {},
   "source": [
    "We can set some values/attributes of the created object the following way:"
   ]
  },
  {
   "cell_type": "code",
   "execution_count": null,
   "id": "16f3529d",
   "metadata": {},
   "outputs": [],
   "source": [
    "c.A_concentration = 10\n",
    "c.I_concentration = 50\n",
    "c.position = [2, 1]"
   ]
  },
  {
   "cell_type": "code",
   "execution_count": null,
   "id": "7dafff24",
   "metadata": {},
   "outputs": [],
   "source": [
    "print(c.A_concentration, c.I_concentration, c.position)"
   ]
  },
  {
   "cell_type": "markdown",
   "id": "afcf9a1c",
   "metadata": {},
   "source": [
    "Functions can also be defined for classes (they are called methods of the class):"
   ]
  },
  {
   "cell_type": "code",
   "execution_count": null,
   "id": "d4477464",
   "metadata": {},
   "outputs": [],
   "source": [
    "class Cell:\n",
    "    def concentration_difference(self):\n",
    "        return self.A_concentration - self.I_concentration"
   ]
  },
  {
   "cell_type": "markdown",
   "id": "35e2d965",
   "metadata": {},
   "source": [
    "Note the `self` keyword that refers to the object itself and therefore allows to access the attributes of the said object."
   ]
  },
  {
   "cell_type": "code",
   "execution_count": null,
   "id": "787cd170",
   "metadata": {},
   "outputs": [],
   "source": [
    "c = Cell()\n",
    "c.A_concentration = 10\n",
    "c.I_concentration = 50\n",
    "print(c.concentration_difference())"
   ]
  },
  {
   "cell_type": "markdown",
   "id": "a56f98b5",
   "metadata": {},
   "source": [
    "Note that in that example, if you have not specified the surface and the volume before calling the class method, it will crash:"
   ]
  },
  {
   "cell_type": "code",
   "execution_count": null,
   "id": "b16ce3b4",
   "metadata": {},
   "outputs": [],
   "source": [
    "c = Cell()\n",
    "try:\n",
    "    c.concentration_difference()\n",
    "except Exception as e:\n",
    "    print(\"the error was the following:\")\n",
    "    print(e)"
   ]
  },
  {
   "cell_type": "markdown",
   "id": "7aa57040",
   "metadata": {},
   "source": [
    "To check whether it is possible to run the method, one can do the following:"
   ]
  },
  {
   "cell_type": "code",
   "execution_count": null,
   "id": "abacbba2",
   "metadata": {},
   "outputs": [],
   "source": [
    "class Cell:\n",
    "    def concentration_difference(self):\n",
    "        # Checking if the attributes do exist\n",
    "        if hasattr(self, \"A_concentration\") and hasattr(\n",
    "            self, \"I_concentration\"\n",
    "        ):\n",
    "            return self.A_concentration - self.I_concentration\n",
    "        else:\n",
    "            # Sometimes it is better to let the error there to avoid\n",
    "            # unseen errors. One way around it is to have warnings\n",
    "            # though it is not great.\n",
    "            import warnings\n",
    "\n",
    "            warnings.warn(\"At least one concentration is missing, returning 0\")\n",
    "            return 0"
   ]
  },
  {
   "cell_type": "code",
   "execution_count": null,
   "id": "1b7ec5e4",
   "metadata": {},
   "outputs": [],
   "source": [
    "c = Cell()\n",
    "c.concentration_difference()"
   ]
  },
  {
   "cell_type": "code",
   "execution_count": null,
   "id": "48d062aa",
   "metadata": {},
   "outputs": [],
   "source": [
    "c.A_concentration = 1\n",
    "c.I_concentration = 6\n",
    "c.concentration_difference()"
   ]
  },
  {
   "cell_type": "markdown",
   "id": "c85d595e",
   "metadata": {},
   "source": [
    "The equivalent without a class would be something like that:"
   ]
  },
  {
   "cell_type": "code",
   "execution_count": null,
   "id": "6b28ce99",
   "metadata": {},
   "outputs": [],
   "source": [
    "def concentration_difference(A_concentration, I_concentration):\n",
    "    return A_concentration - I_concentration"
   ]
  },
  {
   "cell_type": "markdown",
   "id": "2b10bbcc",
   "metadata": {},
   "source": [
    "Where the concentrations `A_concentration` and `I_concentration` would have been needed as parameters of the function. A typical call would have been like that:"
   ]
  },
  {
   "cell_type": "code",
   "execution_count": null,
   "id": "b1b0f9a1",
   "metadata": {},
   "outputs": [],
   "source": [
    "curr_cell = 1\n",
    "concentration_difference(\n",
    "    A_concentration[curr_cell], I_concentration[curr_cell]\n",
    ")"
   ]
  },
  {
   "cell_type": "markdown",
   "id": "95ffe0cd",
   "metadata": {},
   "source": [
    "[To the next notebook](2.Class_initialisation.ipynb)"
   ]
  }
 ],
 "metadata": {
  "kernelspec": {
   "display_name": "Python 3 (ipykernel)",
   "language": "python",
   "name": "python3"
  },
  "language_info": {
   "codemirror_mode": {
    "name": "ipython",
    "version": 3
   },
   "file_extension": ".py",
   "mimetype": "text/x-python",
   "name": "python",
   "nbconvert_exporter": "python",
   "pygments_lexer": "ipython3",
   "version": "3.10.12"
  }
 },
 "nbformat": 4,
 "nbformat_minor": 5
}
