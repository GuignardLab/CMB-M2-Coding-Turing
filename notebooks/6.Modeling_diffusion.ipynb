{
 "cells": [
  {
   "cell_type": "markdown",
   "metadata": {},
   "source": [
    "# The diffusion\n",
    "---"
   ]
  },
  {
   "cell_type": "markdown",
   "metadata": {},
   "source": [
    "In this section we will look at how to model diffusion"
   ]
  },
  {
   "cell_type": "markdown",
   "metadata": {},
   "source": [
    "## Space but no diffusion\n"
   ]
  },
  {
   "cell_type": "markdown",
   "metadata": {},
   "source": [
    "As previously, we will start with simpler examples by reducing our space to 1 dimension and by not having diffusion.\n",
    "\n",
    "So the first exercice is to write a `class` that models interdependant activator and inhibitor concentrations as before but for a row of cells (so 1 dimension) instead of just one single cell.\n",
    "\n",
    "To do so we will use a `ndarray` with 2 dimensions: one for space and one for time.\n",
    "\n",
    "You have to write a `class` with a `run` method that runs the model until time `T` with the $\\delta t$ specified by `dt`.\n",
    "\n",
    "Each steps of the run should be stored in two `ndarray`s named `A` and `I`."
   ]
  },
  {
   "cell_type": "code",
   "execution_count": null,
   "metadata": {},
   "outputs": [],
   "source": [
    "import matplotlib.pyplot as plt\n",
    "class Turing:\n",
    "    ... # Parameters\n",
    "\n",
    "    def reaction(self):\n",
    "        ...\n",
    "\n",
    "    def plot_reactions(self):\n",
    "        if hasattr(self, \"A\") or hasattr(self, \"I\"):\n",
    "            fig, ax = plt.subplots()\n",
    "        else:\n",
    "            print(\"Please compute `A` and `I` and store them in `self.A` and `self.I` before running that method\")\n",
    "            return\n",
    "        if hasattr(self, \"A\"):\n",
    "            ax.imshow(self.A)\n",
    "        if hasattr(self, \"I\"):\n",
    "            ax.imshow(self.I)\n",
    "        fig.tight_layout()\n",
    "\n",
    "    def __init__(self):\n",
    "        ...\n",
    "\n",
    "model = Turing()\n",
    "...\n",
    "model.plot_reactions()"
   ]
  },
  {
   "cell_type": "markdown",
   "metadata": {},
   "source": [
    "## Diffusion in one dimension"
   ]
  },
  {
   "cell_type": "markdown",
   "metadata": {},
   "source": [
    "Therefore, instead of having one single cell in our model, we will have a row of cells that are communicating with each others.\n",
    "\n",
    "The communication can be described by:\n",
    "$$\\frac{\\delta a}{\\delta t} = \\mu_a \\nabla a$$\n",
    "for the acitvator and\n",
    "$$\\tau\\frac{\\delta i}{\\delta t} = \\mu_i \\nabla i$$\n",
    "for the inhibitor.\n",
    "\n",
    "Now, the question is: how do we model $\\nabla\\bullet$??\n",
    "\n",
    "Well, the idea is that a given cell, at a position $x$ recieve, via diffusion, content from its neighbouring cells at positions $x-\\delta x$ and $x + \\delta x$.\n",
    "\n",
    "That same cell gives content, also via diffusion, to the same neighbours at positions $x-\\delta x$ and $x + \\delta x$.\n",
    "\n",
    "How much a cell recieves from its neighbours is modulated by the parameters $\\mu_a$ for the activator and $\\mu_i$ for the inhibitor. $\\mu_a=0$ means that there is no diffusion for the activator, $\\mu_a=1$ means that the cells give all their content to their neighbours and a $\\mu_a=0.25$ means that the cells give $25\\%$ of their content to their neighbourhing cells.\n",
    "\n",
    "⚠️One has to be careful though, since $\\mu_a$ models how much a cell give to **1** of its neighbors, if $\\mu_a*\\#neighbs>1$ then the cell will diffuse more than it has, which is physically not possible.⚠️\n",
    "\n",
    "That being said, we can now model diffusion as follow:\n",
    "$$\n",
    "\\frac{\\delta a_{x, t}}{\\delta t} = \\mu_a . (a_{x-\\delta x, t} + a_{x+\\delta x, t} - 2a_{x, t})\n",
    "$$\n",
    "(similarly for $i$).\n",
    "\n",
    "And therefore the concentration at $t+\\delta t$ after diffusion is the following:\n",
    "$$\n",
    "a_{x, t+\\delta t} = a_{x, t} + \\delta t . \\mu_a . (a_{x-\\delta x, t} + a_{x+\\delta x, t} - 2a_{x, t})\n",
    "$$\n",
    "\n",
    "<img src=\"../Images/Diffusion.png\" alt=\"Diffusion\" width=\"500\"/>\n"
   ]
  },
  {
   "cell_type": "markdown",
   "metadata": {},
   "source": [
    "W"
   ]
  }
 ],
 "metadata": {
  "kernelspec": {
   "display_name": "sandbox",
   "language": "python",
   "name": "python3"
  },
  "language_info": {
   "codemirror_mode": {
    "name": "ipython",
    "version": 3
   },
   "file_extension": ".py",
   "mimetype": "text/x-python",
   "name": "python",
   "nbconvert_exporter": "python",
   "pygments_lexer": "ipython3",
   "version": "3.9.12"
  },
  "orig_nbformat": 4
 },
 "nbformat": 4,
 "nbformat_minor": 2
}
