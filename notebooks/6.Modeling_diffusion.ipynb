{
 "cells": [
  {
   "cell_type": "markdown",
   "metadata": {},
   "source": [
    "# Turing with only space\n",
    "---"
   ]
  },
  {
   "cell_type": "markdown",
   "metadata": {},
   "source": [
    "In this section we will look at how to model diffusion"
   ]
  },
  {
   "cell_type": "markdown",
   "metadata": {},
   "source": [
    "## Space but no diffusion\n"
   ]
  },
  {
   "cell_type": "markdown",
   "metadata": {},
   "source": [
    "As previously, we will start with simpler examples by reducing our space to 1 dimension and by not having diffusion.\n",
    "\n",
    "So the first exercice is to write a `class` that models interdependant activator and inhibitor concentrations as before but for a row of cells (so 1 dimension) instead of just one single cell.\n",
    "\n",
    "To do so we will use a `ndarray` with 2 dimensions: one for space and one for time.\n",
    "\n",
    "You have to write a `class` with a `run` method that runs the model until time `T` with the $\\delta t$ specified by `dt`.\n",
    "\n",
    "Each steps of the run should be stored in two `ndarray`s named `A` and `I`."
   ]
  },
  {
   "cell_type": "code",
   "execution_count": null,
   "metadata": {},
   "outputs": [],
   "source": [
    "import matplotlib.pyplot as plt\n",
    "class Turing:\n",
    "    ... # Parameters\n",
    "\n",
    "    def reaction(self):\n",
    "        ...\n",
    "\n",
    "    def plot_reactions(self):\n",
    "        if hasattr(self, \"A\") or hasattr(self, \"I\"):\n",
    "            fig, ax = plt.subplots()\n",
    "        else:\n",
    "            print(\"Please compute `A` and `I` and store them in `self.A` and `self.I` before running that method\")\n",
    "            return\n",
    "        if hasattr(self, \"A\"):\n",
    "            ax.imshow(self.A)\n",
    "        if hasattr(self, \"I\"):\n",
    "            ax.imshow(self.I)\n",
    "        fig.tight_layout()\n",
    "\n",
    "    def __init__(self):\n",
    "        ...\n",
    "\n",
    "model = Turing()\n",
    "...\n",
    "model.plot_reactions()"
   ]
  },
  {
   "cell_type": "markdown",
   "metadata": {},
   "source": [
    "## Diffusion in one dimension"
   ]
  },
  {
   "cell_type": "markdown",
   "metadata": {},
   "source": [
    "Therefore, instead of having one single cell in our model, we will have a row of cells that are communicating with each others.\n",
    "The communication can be described by $\\frac{\\delta a}{\\delta t} = \\mu_a \\nabla a$ for the acitvator and $\\tau\\frac{\\delta i}{\\delta t} = \\mu_i \\nabla i$ for the inhibitor.\n",
    "\n",
    "Now, the question is: how do we model $\\nabla$??\n",
    "\n",
    "<img src=\"../Images/Diffusion.png\" alt=\"Diffusion\" width=\"500\"/>\n"
   ]
  }
 ],
 "metadata": {
  "kernelspec": {
   "display_name": "sandbox",
   "language": "python",
   "name": "python3"
  },
  "language_info": {
   "codemirror_mode": {
    "name": "ipython",
    "version": 3
   },
   "file_extension": ".py",
   "mimetype": "text/x-python",
   "name": "python",
   "nbconvert_exporter": "python",
   "pygments_lexer": "ipython3",
   "version": "3.9.12"
  },
  "orig_nbformat": 4
 },
 "nbformat": 4,
 "nbformat_minor": 2
}
