{
 "cells": [
  {
   "cell_type": "markdown",
   "metadata": {},
   "source": [
    "# The diffusion\n",
    "---"
   ]
  },
  {
   "cell_type": "markdown",
   "metadata": {},
   "source": [
    "In this section we will look at how to model diffusion"
   ]
  },
  {
   "cell_type": "markdown",
   "metadata": {},
   "source": [
    "## Space but no diffusion\n"
   ]
  },
  {
   "cell_type": "markdown",
   "metadata": {},
   "source": [
    "As previously, we will start with simpler examples by reducing our space to 1 dimension and by not having diffusion.\n",
    "\n",
    "So the first exercice is to write a `class` that models interdependent activator and inhibitor concentrations as before but for a row of cells (so 1 dimension) instead of just one single cell.\n",
    "\n",
    "To do so we will use a `ndarray` with 2 dimensions: one for space and one for time.\n",
    "\n",
    "You have to write a `class` with a `run` method that runs the model until time `T` with the $\\delta t$ specified by `dt`.\n",
    "\n",
    "Each steps of the run should be stored in two `ndarray`s named `A` and `I`."
   ]
  },
  {
   "cell_type": "code",
   "execution_count": null,
   "metadata": {},
   "outputs": [],
   "source": [
    "from turing_models import TuringInit\n",
    "\n",
    "\n",
    "class Turing(TuringInit):\n",
    "    def reaction(self):\n",
    "        ...\n",
    "\n",
    "    def __init__(self, **kwargs):\n",
    "        super().__init__(**kwargs)\n",
    "\n",
    "\n",
    "model = Turing()\n",
    "...\n",
    "model.plot_reactions()"
   ]
  },
  {
   "cell_type": "markdown",
   "metadata": {},
   "source": [
    "## Diffusion in one dimension"
   ]
  },
  {
   "cell_type": "markdown",
   "metadata": {},
   "source": [
    "Instead of having one single cell in our model, we will have a row of cells that are communicating with each others.\n",
    "\n",
    "The communication can be described for the activator by:\n",
    "\n",
    "$$\\frac{\\delta a}{\\delta t} = \\mu_a \\nabla a$$\n",
    "\n",
    "and, for the inhibitor by:\n",
    "\n",
    "$$\\tau\\frac{\\delta i}{\\delta t} = \\mu_i \\nabla i$$\n",
    "\n",
    "Now, the question is: how do we model $\\nabla\\bullet$??\n",
    "\n",
    "Well, the idea is that a given cell, at a position $x$ receives, via diffusion, content from its direct neighbouring cells at positions $x-\\delta x$ and $x + \\delta x$.\n",
    "\n",
    "That same cell gives content, also via diffusion, to the same neighbours at positions $x-\\delta x$ and $x + \\delta x$.\n",
    "\n",
    "How much a cell receives from its neighbours is modulated by the parameters $\\mu_a$ for the activator and $\\mu_i$ for the inhibitor. $\\mu_a=0$ means that there is no diffusion for the activator, $\\mu_a=1$ means that the cells give all their content to their neighbours and a $\\mu_a=0.25$ means that the cells give $25\\%$ of their content to their neighbourhing cells.\n",
    "\n",
    "⚠️ One has to be careful though, since $\\mu_a$ models how much a cell give to **1** of its neighbors, if $\\mu_a*\\#neighbs>1$ then the cell will diffuse more than it has, which is physically not possible.⚠️\n",
    "\n",
    "That being said, we can now model $\\nabla a$ diffusion as follow:\n",
    "$$\n",
    "\\nabla a = \\frac{a_{x-\\delta x, t} + a_{x+\\delta x, t} - 2a_{x, t}}{\\delta x}\n",
    "$$\n",
    "And so the change of concentration due to diffusion for a cell at the position $x$ at time $t$ becomes:\n",
    "$$\n",
    "\\frac{\\delta a_{x, t}}{\\delta t} = \\mu_a . \\frac{a_{x-\\delta x, t} + a_{x+\\delta x, t} - 2a_{x, t}}{\\delta x}\n",
    "$$\n",
    "(similarly for $i$).\n",
    "\n",
    "And therefore the concentration at $t+\\delta t$ after diffusion is the following:\n",
    "$$\n",
    "a_{x, t+\\delta t} = a_{x, t} + \\delta t . \\mu_a . \\frac{a_{x-\\delta x, t} + a_{x+\\delta x, t} - 2a_{x, t}}{\\delta x}\n",
    "$$\n",
    "\n",
    "<img src=\"../Images/Diffusion.png\" alt=\"Diffusion\" width=\"1000\"/>\n"
   ]
  },
  {
   "cell_type": "markdown",
   "metadata": {},
   "source": [
    "## How to compute diffusion in a 1D row."
   ]
  },
  {
   "cell_type": "markdown",
   "metadata": {},
   "source": [
    "Let:\n",
    "- `A` be a `np.ndarray` that contains the concentration of the activator `A` for our row of cells.\n",
    "- `A[t]` is the concentration of the cells at time `t`.\n",
    "- `A[t, i]` is the concentration of the `i`th cell at time `t`.\n",
    "\n",
    "The question is: knowing `A[t]` how do we compute `A[t+1]`?\n",
    "\n",
    "From the previous equations, we know the following:\n",
    "\n",
    "`A[t+1, i] = A[t, i] + (dt/dx)*mu_a*(A[t, i-1] + A[t, i+1] - 2*A[t, i])`\n",
    "\n",
    "Now, we can run the previous line of code for each cell at `t+1`, then `t+2` and so on and so forth. Of course, provided that we have `A[0]`."
   ]
  },
  {
   "cell_type": "markdown",
   "metadata": {},
   "source": [
    "### Exercices:"
   ]
  },
  {
   "cell_type": "markdown",
   "metadata": {},
   "source": [
    "Write a function that takes as an input `A[t]` and returns `A[t+1]`.\n",
    "\n",
    "Remember that `A[t]` is a 1 dimensional `np.ndarray`: `A[t].shape = (nb_cells, )`"
   ]
  },
  {
   "cell_type": "code",
   "execution_count": null,
   "metadata": {},
   "outputs": [],
   "source": [
    "import numpy as np\n",
    "\n",
    "\n",
    "def next_time(A, mu, dt, dx, tau):\n",
    "    \"\"\"\n",
    "    Given a row of concentrations at time t, computes the concentrations at time t+dt\n",
    "    \"\"\"\n",
    "    next_A = np.zeros_like(A)\n",
    "    ...\n",
    "    return next_A"
   ]
  },
  {
   "cell_type": "markdown",
   "metadata": {},
   "source": [
    "Integrate that function into your class"
   ]
  },
  {
   "cell_type": "code",
   "execution_count": null,
   "metadata": {},
   "outputs": [],
   "source": [
    "class Turing(TuringInit):\n",
    "    def diffusion(self):\n",
    "        ...\n",
    "\n",
    "    def reaction(self):\n",
    "        ...\n",
    "\n",
    "    def __init__(self, **kwargs):\n",
    "        super().__init__(**kwargs)\n",
    "\n",
    "\n",
    "model = Turing()\n",
    "...\n",
    "model.plot_reactions()"
   ]
  },
  {
   "cell_type": "markdown",
   "metadata": {},
   "source": [
    "**If you are struggling (it is not easy) you can try to separate diffusion from reaction**\n",
    "\n",
    "In other words we are trying to implement the following equations:\n",
    "\n",
    "$$\n",
    "a_{x, t+1} = a_{x, t} + \\delta t * (\\mu_a\\nabla a + a - a^3 - i + k)\n",
    "$$\n",
    "\n",
    "and\n",
    "\n",
    "$$\n",
    "i_{x, t+1} = i_{x, t} + \\frac{\\delta t}{\\tau} * (\\mu_i\\nabla i + a - i)\n",
    "$$\n",
    "\n",
    "But you can separate the diffusion from the reaction, if you have a function for the diffusion (let say `diffusion`) and a function for the reaction (let say `reaction`) you can compute the concentration at the next time the following way:\n",
    "\n",
    "```python\n",
    "a[t+1] = a[t] + dt * (diffusion(a[t]) + reaction(a[t]))\n",
    "i[t+1] = i[t] + dt/tau * (diffusion(i[t]) + reaction(i[t]))\n",
    "```\n",
    "\n",
    "Also, be careful of side effects!!"
   ]
  },
  {
   "cell_type": "markdown",
   "metadata": {},
   "source": [
    "## From 1D to 2D"
   ]
  },
  {
   "cell_type": "markdown",
   "metadata": {},
   "source": [
    "Now that we know how to code a model in 1D over time, we can go directly to 2D 😨\n",
    "\n",
    "That being said, we will use the 2D convolution seen before to our advantage. Indeed, in the diffusion each cell receive activator and inhibitor from its neighbours and give back to its neighbours.\n",
    "\n",
    "So the diffusions can be computed as follow:\n",
    "$$\n",
    "\\mu * (\\sum Neighbs~concentration - \\#neighbs * own~concentration)\n",
    "$$\n",
    "\n",
    "We already know how to compute the number of neighbours with the convolution and therefore we are able to compute $\\#neighbs * own~concentration$\n",
    "\n",
    "And to compute the $\\sum Neighbs~concentration$ we can also use a convolution:\n",
    "\n",
    "<img src=\"../Images/diffusion.png\" alt=\"Diffusion\" width=\"500\"/>\n",
    "\n",
    "You now have everything you need"
   ]
  },
  {
   "cell_type": "code",
   "execution_count": null,
   "metadata": {},
   "outputs": [],
   "source": [
    "class Turing(TuringInit):\n",
    "    def reaction(self):\n",
    "        ...\n",
    "\n",
    "    def diffusion(self):\n",
    "        ...\n",
    "\n",
    "    def __init__(self, **kwargs):\n",
    "        super().__init__(**kwargs)\n",
    "\n",
    "\n",
    "model = Turing()\n",
    "...\n",
    "model.plot_reactions()"
   ]
  }
 ],
 "metadata": {
  "kernelspec": {
   "display_name": "Python 3 (ipykernel)",
   "language": "python",
   "name": "python3"
  },
  "language_info": {
   "codemirror_mode": {
    "name": "ipython",
    "version": 3
   },
   "file_extension": ".py",
   "mimetype": "text/x-python",
   "name": "python",
   "nbconvert_exporter": "python",
   "pygments_lexer": "ipython3",
   "version": "3.10.12"
  }
 },
 "nbformat": 4,
 "nbformat_minor": 2
}
